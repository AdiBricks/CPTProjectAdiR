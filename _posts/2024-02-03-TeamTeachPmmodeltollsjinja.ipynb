{
 "cells": [
  {
   "cell_type": "markdown",
   "metadata": {},
   "source": [
    "# Lesson: Database Setup and Migration with Flask\n",
    "\n",
    "## Objective\n",
    "The primary goal of this lesson is to guide you through the process of creating and migrating a database in a Flask application. Running the provided script will ensure the database is created, primed, and contains some initial data. It's crucial to run this script whenever there are changes to the database schema.\n",
    "\n",
    "## Script Setup\n",
    "To begin, open the terminal in the root directory of your project and run the following command:\n",
    "\n",
    "```bash\n",
    "./migrate.sh\n"
   ]
  },
  {
   "cell_type": "markdown",
   "metadata": {},
   "source": [
    "# What is Flask?\n",
    "\n",
    "Flask is a web application framework written in Python. It was developed by Armin Ronacher, who led a team of international Python enthusiasts called Poocco. Flask is often referred to as a microframework. It is designed to keep the core of the application simple and scalable. Learn more!\n",
    "\n",
    "# What is WSGI?\n",
    "\n",
    "The Web Server Gateway Interface (Web Server Gateway Interface, WSGI) has been used as a standard for Python web application development. WSGI is the specification of a common interface between web servers and web applications.\n",
    "\n",
    "# What is Werkzeug?\n",
    "\n",
    "Werkzeug is a WSGI toolkit that implements requests, response objects, and utility functions. This enables a web frame to be built on it. The Flask framework uses Werkzeug as one of its bases.\n",
    "\n",
    "# What is Jinja2?\n",
    "\n",
    "Jinja2 is a popular template engine for Python. A web template system combines a template with a specific data source to render a dynamic web page. This allows you to pass Python variables into HTML.\n"
   ]
  }
 ],
 "metadata": {
  "language_info": {
   "name": "python"
  }
 },
 "nbformat": 4,
 "nbformat_minor": 2
}
