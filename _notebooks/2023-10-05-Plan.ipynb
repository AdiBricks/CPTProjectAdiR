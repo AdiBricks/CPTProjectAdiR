{
 "cells": [
  {
   "attachments": {},
   "cell_type": "markdown",
   "metadata": {},
   "source": [
    "---\n",
    "comments: true\n",
    "layout: notebook\n",
    "title: Alien World Project Plan\n",
    "description: The concept of making an Alien World simply was created by looking at assets that were publicly available.  The idea is to follow Mario Game, but try to customize background and actions to be focused on an Alien World.  The Theme of the game is CompSci education, loops, objects, and perhaps Monkeys/Dogs as space aliens.\n",
    "type: hacks\n",
    "courses: { compsci: {week: 0} }\n",
    "categories: [C4.1]\n",
    "---"
   ]
  },
  {
   "cell_type": "markdown",
   "metadata": {},
   "source": [
    "# Backgound\n",
    "Over my Computer Science years I have found that it is a lot more interesting to code if you start with something fun.   Loops are kind of boring, but if you add animation, alien planet, and monkeys what is not to like.\n",
    "\n",
    "Initial concepts: \n",
    "\n",
    "- Mr M (Product Owner, Scrum Master)\n",
    "    - Introduce basic concepts to non coder, even younger children\n",
    "    - Make game easy, instead of start over continue but require more events for success\n",
    "    - Use Mario features like squish to help in countdown\n",
    "    - Try to integrate some code into game\n",
    "\n",
    "- From P1 friend Quinn, character name Ideas\n",
    "In a distant galaxy, far, far away, there was a world known as \"Codeonia.\" In this realm, software engineers and programmers lived harmoniously, creating and coding various applications for the universe. Among the inhabitants of Codeonia was Java the Hut, a wise and experienced programmer known for his mastery of programming languages.\n",
    "One day, a group of mischievous bugs and glitches threatened to plunge Codeonia into chaos. These digital nuisances were led by Darth Compiler, a formidable dark coder who sought to corrupt the code of the entire galaxy.\n",
    "\n",
    "- Monkeys (Good and Bad)\n",
    "    - C++3PO\n",
    "    - Darth Compiler\n",
    "    - Ewak exception handle\n",
    "    - R2-D-Arrays\n",
    "    - Boba Fetch API\n",
    "\n",
    "- More worlds\n",
    "- Jetpack\n",
    "- New characters\n",
    "    - Space Jellyfish\n",
    "    - Robots\n",
    "    - Aliens\n",
    "\n",
    "- Enemies have different abilities\n",
    "- Go between planets for levels\n",
    "- Zero gravity level\n",
    "- Astroid level\n",
    "- Star power up\n",
    "- Black hole\n",
    "\n",
    "- Surfaces with different properties\n",
    "    - Bouncy\n",
    "    - Sticky\n",
    "    - Damaging\n",
    "\n",
    "- Create obstacles or challenges that require players to use conditional statements (e.g., if-else) to make decisions, such as determining if a door is locked or open based on collected keys.\n",
    "- Use abilities by calling functions.\n",
    "- Different resources require different variables which we show the player.\n",
    "- Introduce the concept of objects and classes by having players interact with different spaceship types, each with its own properties and behaviors\n"
   ]
  },
  {
   "cell_type": "markdown",
   "metadata": {},
   "source": [
    "- Mr L"
   ]
  },
  {
   "cell_type": "markdown",
   "metadata": {},
   "source": [
    "- Safin"
   ]
  },
  {
   "cell_type": "markdown",
   "metadata": {},
   "source": [
    "- Rohan"
   ]
  },
  {
   "attachments": {},
   "cell_type": "markdown",
   "metadata": {},
   "source": [
    "## GitHub Pages Project\n",
    "[alienWorld repository](https://github.com/jm1021/alienWorld)"
   ]
  },
  {
   "attachments": {},
   "cell_type": "markdown",
   "metadata": {},
   "source": [
    "## Make a GitHub Pages Repository\n",
    "> Goto GitHub [alienWorld repository](https://github.com/jm1021/alienWorld)\n",
    "\n",
    "- Clone to your machine and get started with VSCode\n",
    "\n",
    "```bash\n",
    "$ cd vscode # work in vscode directory for consistency\n",
    "$ git clone https://github.com/jm1021/alienWorld.git \n",
    "$ cd alienWorld \n",
    "$ code . # open VSCode in project directory\n",
    "```"
   ]
  },
  {
   "cell_type": "code",
   "execution_count": null,
   "metadata": {
    "vscode": {
     "languageId": "plaintext"
    }
   },
   "outputs": [],
   "source": [
    "## Anatomy of repository\n",
    "The GitHub Pages repository is for Game and History of project.\n",
    "\n",
    "- index.md will be the game\n",
    "- _notebooks/Plan.ipynb contains this plan\n",
    "_ _posts/* contains daily meetings, hacks, and tangibles\n",
    "_ *.md contains links to other pages"
   ]
  }
 ],
 "metadata": {
  "kernelspec": {
   "display_name": "Python 3 (ipykernel)",
   "language": "python",
   "name": "python3"
  },
  "language_info": {
   "codemirror_mode": {
    "name": "ipython",
    "version": 3
   },
   "file_extension": ".py",
   "mimetype": "text/x-python",
   "name": "python",
   "nbconvert_exporter": "python",
   "pygments_lexer": "ipython3",
   "version": "3.9.12"
  }
 },
 "nbformat": 4,
 "nbformat_minor": 2
}
