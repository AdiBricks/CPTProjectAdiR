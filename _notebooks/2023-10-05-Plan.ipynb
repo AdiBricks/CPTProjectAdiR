{
 "cells": [
  {
   "attachments": {},
   "cell_type": "markdown",
   "metadata": {},
   "source": [
    "---\n",
    "comments: true\n",
    "layout: notebook\n",
    "title: Alien World Project Plan\n",
    "description: The concept of making an Alien World simply was created by looking at assets that were publicly available.  The idea is to follow Mario Game, but try to customize background and actions to be focused on an Alien World.  The Theme of the game is CompSci education, loops, objects, and perhaps Monkeys/Dogs as space aliens.\n",
    "type: hacks\n",
    "courses: { compsci: {week: 0} }\n",
    "categories: [C4.1]\n",
    "---"
   ]
  },
  {
   "attachments": {},
   "cell_type": "markdown",
   "metadata": {},
   "source": [
    "## GitHub Pages Project\n",
    "[alienWorld repository](https://github.com/jm1021/alienWorld)"
   ]
  },
  {
   "attachments": {},
   "cell_type": "markdown",
   "metadata": {},
   "source": [
    "## Make a GitHub Pages Repository\n",
    "> Goto GitHub [alienWorld repository](https://github.com/jm1021/alienWorld)\n",
    "\n",
    "- Clone to your machine and get started with VSCode\n",
    "\n",
    "```bash\n",
    "$ cd vscode # work in vscode directory for consistency\n",
    "$ git clone https://github.com/jm1021/alienWorld.git \n",
    "$ cd alienWorld \n",
    "$ code . # open VSCode in project directory\n",
    "```"
   ]
  },
  {
   "cell_type": "code",
   "execution_count": null,
   "metadata": {
    "vscode": {
     "languageId": "plaintext"
    }
   },
   "outputs": [],
   "source": [
    "## Anatomy of repository\n",
    "The GitHub Pages repository is for Game and History of project.\n",
    "\n",
    "- index.md will be the game\n",
    "- _notebooks/Plan.ipynb contains this plan\n",
    "_ _posts/* contains daily meetings, hacks, and tangibles\n",
    "_ *.md contains links to other pages"
   ]
  }
 ],
 "metadata": {
  "kernelspec": {
   "display_name": "Python 3 (ipykernel)",
   "language": "python",
   "name": "python3"
  },
  "language_info": {
   "codemirror_mode": {
    "name": "ipython",
    "version": 3
   },
   "file_extension": ".py",
   "mimetype": "text/x-python",
   "name": "python",
   "nbconvert_exporter": "python",
   "pygments_lexer": "ipython3",
   "version": "3.9.12"
  }
 },
 "nbformat": 4,
 "nbformat_minor": 2
}
