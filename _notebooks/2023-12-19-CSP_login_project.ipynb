{
 "cells": [
  {
   "cell_type": "raw",
   "metadata": {},
   "source": [
    "---\n",
    "toc: true\n",
    "comments: true\n",
    "layout: post\n",
    "title: FE/BE | JWT | Login Project\n",
    "description: Each individual will produce login project.  Student groups will Teach and Execute on project in a Crowdsource manner.\n",
    "courses: { csp: {week: 18} }\n",
    "type: ccc\n",
    "---"
   ]
  },
  {
   "cell_type": "markdown",
   "metadata": {},
   "source": [
    "##  Individual Requirements\n",
    "\n",
    "Each individual will develop a Login and Signup system which contains roles.  Project can be collaboritive, but it is responsiblity of individual to have FE/BE assets in their own GitHub.   Demonstration of the project will be performed on localhost.\n",
    "\n",
    "- The project will be guided by Student/Teacher lessons.  Each lesson will build upon previous lesson to ultimately create a Login and Role system.  \n",
    "\n",
    "- Individuals will be graded by Student/Teacher teams on progress. Each lesson will be work a point.\n",
    "\n",
    "- Each assignment should be done in iterative fashiion in individual repository.   Student/Teacher teams need to review both commits (journey) and runtime at each review.\n"
   ]
  },
  {
   "cell_type": "markdown",
   "metadata": {},
   "source": [
    "## Lessons, Student/Teacher requirements.\n",
    "\n",
    "The lessons listed are the proposed order of build up.  Each Studnet/Teaching team will select a lesson and produce a Step-by-Step lesson.  Lessons should build upon dependencies of previous lessons where required.\n",
    "\n",
    "- SASS instroduction.  Teachers will provide lessons that contain SASS introduction.  These lessons will be reviewed and adapted to prepare students for build new on SASS styled page(s).\n",
    "\n",
    "- Python Flask User db introduction.  Teachers will provide lessons and code that contain foudnation for User table with SQL database.  Students will develop anatomy of User table within SQL database lesson and discuss operations between API and Model layers in backend.\n",
    "\n",
    "- JWT overview. Teachers will provide materials that overview JWT and implementation into flask portfolio project.  Student/Teachers will build anatomy lesson and describe concept that go into adding JWT to a flask project.  Additionally, student will review Postman and validating a JWT cookie is obtained.\n",
    "\n",
    "- SASS / JavaScript login and signup page.   This page must be build off of GitHub Pages minima theme.  The page must be setup with framework for JavaScript methods to fetch POST requests for Login and Signup.  Page should consider both success and errors (401, 403, 404).\n",
    "\n",
    "- POST methods and Database defintions.  Establish basic frontend/backend API methods to support Login/Signup.  Create anatomy lesson and drawings that explain how FE/BE work, including explaing security config.  Use materials from Teacher Portfolio for Person database.  At conclusion of this lesson students should have working Login/Signup system.\n",
    "\n",
    "- Roles for User / Admin user.  Add to the working system by creating roles for each user (ADMIN, Teacher, User).  Review current and former Teacher repositories for assistance.  Teacher recommendations is to build a Roles Table that has many-to-many relationship with Person.  This portion of project also includes anatomy lesson on JWT/cookie and displaying roles on GtiHub Pages.\n",
    "\n",
    "- HTML / JavaScript for User Profile.   On GitHub Pages allow user to edit their profile.   This portion of the project allows user to perform read and update operations on their profile.  To make this interesting add some attributes to User Profile, for instance ability to turn on statistics from GitHub API, or store their favority Coding languages and frameworks, or make a list of friends that are in the system.\n",
    "\n",
    "- Jinja2. In the backend, build CRUD page(s) for Teacher and Admin roles.   Using jQuery build functionality to review and filter users (Read), build function to edit roles for user (Update), build fuctionality to remove user (Delete), the delete must remove relationship data from Roles table.  Be sure to describe anatomy of files and process.\n",
    "\n",
    "- Deployment.  Build a lesson that requires each user to go though deployment.  This starts by making an EC2 and walks them through to process of deployment.   In this process students will need to learn about Docker, dotEnv, instance directory and db, CORS, security config, DNS, Nginx, Certbot.  The dotEnv process should be used to manage JWT secrets.  The CORS process should discuss proper definitions to support local host and deployment verification.  \n",
    "\n"
   ]
  }
 ],
 "metadata": {
  "kernelspec": {
   "display_name": "Java",
   "language": "java",
   "name": "java"
  },
  "language_info": {
   "codemirror_mode": "java",
   "file_extension": ".jshell",
   "mimetype": "text/x-java-source",
   "name": "java",
   "pygments_lexer": "java",
   "version": "17.0.8.1+1-Ubuntu-0ubuntu120.04"
  }
 },
 "nbformat": 4,
 "nbformat_minor": 2
}
